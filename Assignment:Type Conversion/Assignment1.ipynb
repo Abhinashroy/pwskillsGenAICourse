{
 "cells": [
  {
   "cell_type": "markdown",
   "id": "215ea8b5-817f-42c9-8a99-8c6d608303bc",
   "metadata": {},
   "source": [
    "1.Convert an integer to a floating-point number."
   ]
  },
  {
   "cell_type": "code",
   "execution_count": 4,
   "id": "044aa07b-8005-4933-a58d-731cdbf04e18",
   "metadata": {},
   "outputs": [
    {
     "name": "stdin",
     "output_type": "stream",
     "text": [
      "Enter a  number: 6\n"
     ]
    },
    {
     "name": "stdout",
     "output_type": "stream",
     "text": [
      "6.0\n"
     ]
    }
   ],
   "source": [
    "num=int(input(\"Enter a  number:\"))\n",
    "floating=float(num)\n",
    "print(floating)"
   ]
  },
  {
   "cell_type": "markdown",
   "id": "2b6a9f0c-62f2-4b5a-b9f0-fb12ac9bf187",
   "metadata": {},
   "source": [
    "2.Convert a float to an integer."
   ]
  },
  {
   "cell_type": "code",
   "execution_count": 6,
   "id": "048d7848-2484-4f1c-930e-b9c4d44174b1",
   "metadata": {},
   "outputs": [
    {
     "name": "stdin",
     "output_type": "stream",
     "text": [
      "Enter a  number: 5.8\n"
     ]
    },
    {
     "name": "stdout",
     "output_type": "stream",
     "text": [
      "5\n"
     ]
    }
   ],
   "source": [
    "num=float(input(\"Enter a  number:\"))\n",
    "integer=int(num)\n",
    "print(integer)"
   ]
  },
  {
   "cell_type": "markdown",
   "id": "7c1c431f-6c81-49f6-bd99-f9bd0973cb5c",
   "metadata": {},
   "source": [
    "3.Convert an integer to a string."
   ]
  },
  {
   "cell_type": "code",
   "execution_count": 11,
   "id": "12747562-94a2-4b1b-ae62-b7f4e6f07475",
   "metadata": {},
   "outputs": [
    {
     "name": "stdin",
     "output_type": "stream",
     "text": [
      "Enter a  number: 4\n"
     ]
    },
    {
     "name": "stdout",
     "output_type": "stream",
     "text": [
      "4\n",
      "<class 'str'>\n"
     ]
    }
   ],
   "source": [
    "num=int(input(\"Enter a  number:\"))\n",
    "string=str(num)\n",
    "print(string)\n",
    "print(type(string))"
   ]
  },
  {
   "cell_type": "markdown",
   "id": "b10f839f-f2f1-48ee-9c8c-bf56fac93ff7",
   "metadata": {},
   "source": [
    "4.Convert a list to a tuple."
   ]
  },
  {
   "cell_type": "code",
   "execution_count": 12,
   "id": "22b2bf14-01f3-4456-a4df-39dfcd775454",
   "metadata": {},
   "outputs": [
    {
     "name": "stdout",
     "output_type": "stream",
     "text": [
      "<class 'tuple'>\n",
      "(1, 2, 5, 7)\n"
     ]
    }
   ],
   "source": [
    "list_=[1,2,5,7]\n",
    "tupl=tuple(list_)\n",
    "print(type(tupl))\n",
    "print(tupl)"
   ]
  },
  {
   "cell_type": "markdown",
   "id": "ce72dc84-3d98-473c-a7c6-d35b9d564d20",
   "metadata": {},
   "source": [
    "5.Convert a tuple to a list."
   ]
  },
  {
   "cell_type": "code",
   "execution_count": 13,
   "id": "bfc34fcf-00dd-457a-9926-6b5612c69e20",
   "metadata": {},
   "outputs": [
    {
     "name": "stdout",
     "output_type": "stream",
     "text": [
      "<class 'list'>\n",
      "[1, 2, 5, 7]\n"
     ]
    }
   ],
   "source": [
    "tuple_=(1,2,5,7)\n",
    "list_=list(tuple_)\n",
    "print(type(list_))\n",
    "print(list_)"
   ]
  },
  {
   "cell_type": "markdown",
   "id": "3e592de6-3309-4fa9-bc81-0e4174921e2b",
   "metadata": {},
   "source": [
    "6.Convert a decimal number to binary."
   ]
  },
  {
   "cell_type": "code",
   "execution_count": 14,
   "id": "383bbf4f-e329-4c31-b192-2f6160b29b48",
   "metadata": {},
   "outputs": [
    {
     "name": "stdin",
     "output_type": "stream",
     "text": [
      "Enter a  number: 6\n"
     ]
    },
    {
     "name": "stdout",
     "output_type": "stream",
     "text": [
      "0b110\n"
     ]
    }
   ],
   "source": [
    "num=int(input(\"Enter a  number:\"))\n",
    "binary=bin(num)\n",
    "print(binary)"
   ]
  },
  {
   "cell_type": "markdown",
   "id": "4b5b1ffd-a3cb-4e60-b70f-60789a8785a8",
   "metadata": {},
   "source": [
    "7.Convert an non-zero number to boolean."
   ]
  },
  {
   "cell_type": "code",
   "execution_count": 15,
   "id": "d9940ac4-52a2-4819-8be3-70fd2b7ea287",
   "metadata": {},
   "outputs": [
    {
     "name": "stdin",
     "output_type": "stream",
     "text": [
      "Enter a  number: 5\n"
     ]
    },
    {
     "name": "stdout",
     "output_type": "stream",
     "text": [
      "True\n"
     ]
    }
   ],
   "source": [
    "num=int(input(\"Enter a  number:\"))\n",
    "boolean=bool(num)\n",
    "print(boolean)"
   ]
  },
  {
   "cell_type": "code",
   "execution_count": null,
   "id": "f0fe559e-2ca5-4fc4-8220-1731c6e569a1",
   "metadata": {},
   "outputs": [],
   "source": []
  }
 ],
 "metadata": {
  "kernelspec": {
   "display_name": "Python 3 (ipykernel)",
   "language": "python",
   "name": "python3"
  },
  "language_info": {
   "codemirror_mode": {
    "name": "ipython",
    "version": 3
   },
   "file_extension": ".py",
   "mimetype": "text/x-python",
   "name": "python",
   "nbconvert_exporter": "python",
   "pygments_lexer": "ipython3",
   "version": "3.10.8"
  }
 },
 "nbformat": 4,
 "nbformat_minor": 5
}
