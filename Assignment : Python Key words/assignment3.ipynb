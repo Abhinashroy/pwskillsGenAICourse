{
 "cells": [
  {
   "cell_type": "markdown",
   "id": "4e52021a-c159-40e5-bd21-86e2e6f5fa00",
   "metadata": {},
   "source": [
    "1. Explain the significance of Python keywords and provide examples of five keywords."
   ]
  },
  {
   "cell_type": "raw",
   "id": "dd8f7adb-c813-437a-aa62-679e499470dd",
   "metadata": {},
   "source": [
    "Answer:Python keywords are reserved words that have specific meanings and functionalities within the Python programming language. These keywords are used to define the syntax and structure of Python code. They cannot be used as identifiers (such as variable names or function names) because they are predefined by the language."
   ]
  },
  {
   "cell_type": "raw",
   "id": "79061839-8096-4bd8-8ec3-9af8e9f92d46",
   "metadata": {},
   "source": [
    "Five Python keywords along with their examples:"
   ]
  },
  {
   "cell_type": "code",
   "execution_count": 1,
   "id": "5a8e92f9-6934-4c4f-b048-2f77b08c1cec",
   "metadata": {},
   "outputs": [
    {
     "name": "stdout",
     "output_type": "stream",
     "text": [
      "x is greater than 5\n"
     ]
    }
   ],
   "source": [
    "#if: The if keyword is used to implement conditional statements.\n",
    "x=10\n",
    "if x>5:\n",
    "    print(\"x is greater than 5\")\n"
   ]
  },
  {
   "cell_type": "code",
   "execution_count": 2,
   "id": "d1bb8dfb-34f5-4dff-8106-926ccb517f45",
   "metadata": {},
   "outputs": [
    {
     "name": "stdout",
     "output_type": "stream",
     "text": [
      "apple\n",
      "banana\n",
      "cherry\n"
     ]
    }
   ],
   "source": [
    "#for: The for keyword is used to create loops. It allows you to iterate over a sequence and execute a block of code for each item\n",
    "#in the sequence.\n",
    "fruits = [\"apple\", \"banana\", \"cherry\"]\n",
    "for fruit in fruits:\n",
    "    print(fruit)"
   ]
  },
  {
   "cell_type": "code",
   "execution_count": 3,
   "id": "d106f87d-9b16-4085-a505-cfc0860375f7",
   "metadata": {},
   "outputs": [
    {
     "name": "stdout",
     "output_type": "stream",
     "text": [
      "3 is in the list\n"
     ]
    }
   ],
   "source": [
    "#in: Used to check if a value exists within a sequence (such as lists, tuples, or strings).\n",
    "numbers = [1, 2, 3, 4, 5]\n",
    "if 3 in numbers:\n",
    "    print(\"3 is in the list\")"
   ]
  },
  {
   "cell_type": "code",
   "execution_count": 4,
   "id": "1babb62e-72a7-49f1-9335-cfbd13c6a370",
   "metadata": {},
   "outputs": [
    {
     "name": "stdout",
     "output_type": "stream",
     "text": [
      "x is a positive single-digit number\n"
     ]
    }
   ],
   "source": [
    "#and: Used to combine two conditions such that both must be true for the overall condition to be true.\n",
    "x = 5\n",
    "if x > 0 and x < 10:\n",
    "    print(\"x is a positive single-digit number\")"
   ]
  },
  {
   "cell_type": "code",
   "execution_count": 6,
   "id": "8167367b-b43f-4de6-87ff-ae7f25819398",
   "metadata": {},
   "outputs": [
    {
     "name": "stdout",
     "output_type": "stream",
     "text": [
      "0\n",
      "1\n",
      "2\n",
      "3\n"
     ]
    }
   ],
   "source": [
    "#while: Used to create a loop that continues iterating as long as a specified condition is true.\n",
    "count = 0\n",
    "while count < 4:\n",
    "    print(count)\n",
    "    count += 1"
   ]
  },
  {
   "cell_type": "markdown",
   "id": "f20d8812-7583-402b-bcdb-02bc11c9f90f",
   "metadata": {},
   "source": [
    "2. Describe the rules for defining identifiers in Python and provide an example."
   ]
  },
  {
   "cell_type": "raw",
   "id": "e9877282-d72e-4cc6-8334-40dc8dcad4f0",
   "metadata": {},
   "source": [
    "Answer:identifiers are names given to entities such as variables, functions etc.\n",
    "There are certain rules for defining identifiers in Python:\n",
    "1.Valid Characters: Identifiers can consist of alphanumeric characters (a-z, A-Z, 0-9) and underscores (_). They cannot start with a digit.\n",
    "2.Case Sensitivity: Python is case-sensitive, meaning identifiers with different cases are treated as different entities. For example, variable, Variable, and VARIABLE are considered distinct identifiers.\n",
    "3.Reserved Keywords: Identifiers cannot be the same as Python keywords.\n",
    "4.Length: There's no maximum length for identifiers, but it's recommended to keep them reasonably short and descriptive for readability."
   ]
  },
  {
   "cell_type": "code",
   "execution_count": 7,
   "id": "3bb847b6-ddb0-4942-a587-2eb1dfce4a2e",
   "metadata": {},
   "outputs": [],
   "source": [
    "# Valid identifiers\n",
    "my_variable = 42\n",
    "another_variable = \"Hello\"\n",
    "variable_3 = True\n",
    "_this_is_an_identifier = \"Hello PW\"\n",
    "\n",
    "def my_function():\n",
    "    return \"This is a function\""
   ]
  },
  {
   "cell_type": "markdown",
   "id": "8b0eb2b6-b264-43b9-a74c-ef3ffb2d21df",
   "metadata": {},
   "source": [
    "3.What are comments in Python, and why are they useful? Provide an example."
   ]
  },
  {
   "cell_type": "raw",
   "id": "236637e5-8b7b-4745-9b91-fd2b4f083d6f",
   "metadata": {},
   "source": [
    "Answer:In Python, comments are explanatory notes that are ignored by the interpreter during execution. They are intended for human readers to understand the code better. Comments help in documenting code, providing explanations, and making it easier for other programmers to comprehend the purpose and functionality of various parts of the code."
   ]
  },
  {
   "cell_type": "raw",
   "id": "d7fe9c0b-18dc-407a-82d8-6f6203a10dd7",
   "metadata": {},
   "source": [
    "Python supports two types of comments:\n",
    "1.Single-line comments: These comments start with the hash character (#) and continue until the end of the line.\n",
    "2.Multi-line comments: These comments span multiple lines and are enclosed within triple quotes (''' or \"\"\"). "
   ]
  },
  {
   "cell_type": "code",
   "execution_count": 8,
   "id": "fd5663be-c193-4c69-ab04-ee7f229e61e7",
   "metadata": {},
   "outputs": [
    {
     "name": "stdout",
     "output_type": "stream",
     "text": [
      "5\n"
     ]
    }
   ],
   "source": [
    "# This is a single-line comment\n",
    "x = 5  # Assigning value 5 to variable x\n",
    "\n",
    "'''\n",
    "This is a multi-line comment.\n",
    "These comments span multiple lines \n",
    "and are enclosed within triple quotes\n",
    "'''\n",
    "print(x) #printing value of x"
   ]
  },
  {
   "cell_type": "markdown",
   "id": "33778fd8-ac94-43da-b628-c258e917f1f3",
   "metadata": {},
   "source": [
    "4.Why is proper indentation important in Python?"
   ]
  },
  {
   "cell_type": "raw",
   "id": "347573e5-c86a-42de-9f1d-5ed043e20016",
   "metadata": {},
   "source": [
    "Answer:Python uses indentation to indicate which statements are grouped together.\n",
    "The importance of proper indentation in Python are:\n",
    "1.Readability: Indentation enhances the readability of Python code by visually representing the logical structure of the program.\n",
    "2.Block Structure: In Python, indentation defines the block structure, such as loops, conditional statements, function definitions, and class definitions.\n",
    "3.Enforcement of Syntax: Python enforces indentation to ensure proper syntax. Incorrect indentation can lead to syntax errors or alter the logic of the program.\n",
    "4.Consistency: Consistent indentation style is essential for maintaining code consistency within a project or among team members.\n",
    "5.Debugging: Proper indentation aids in debugging by making it easier to identify the location of errors and trace the execution flow."
   ]
  },
  {
   "cell_type": "markdown",
   "id": "55f116ad-0399-4726-b087-5cfbb9a3856c",
   "metadata": {},
   "source": [
    "5.What happens if indentation is incorrect in Python?"
   ]
  },
  {
   "cell_type": "raw",
   "id": "2203cf5e-0751-46c8-a387-dd2e7802b4ab",
   "metadata": {},
   "source": [
    "If indentation is incorrect in Python, then following error occurs:\n",
    "1.Syntax Errors:If the indentation is incorrect or inconsistent, Python will raise a SyntaxError indicating that the code does not conform to the expected syntax.\n",
    "2.Logical Errors:Misplaced indentation might cause certain statements to be executed in the wrong context or may alter the flow of control within the program.\n",
    "3.Indentation Errors:If Python encounters an unexpected indentation level, it raises an 'IndentationError'. This error indicates that the indentation of the code does not match the expected indentation level."
   ]
  },
  {
   "cell_type": "code",
   "execution_count": 14,
   "id": "d85f9abd-e8e8-4f15-a730-c692bac09ac4",
   "metadata": {},
   "outputs": [
    {
     "ename": "IndentationError",
     "evalue": "unindent does not match any outer indentation level (<tokenize>, line 9)",
     "output_type": "error",
     "traceback": [
      "\u001b[0;36m  File \u001b[0;32m<tokenize>:9\u001b[0;36m\u001b[0m\n\u001b[0;31m    print(\"This line is incorrectly indented\")  # This line will always be executed, which is a logical error\u001b[0m\n\u001b[0m    ^\u001b[0m\n\u001b[0;31mIndentationError\u001b[0m\u001b[0;31m:\u001b[0m unindent does not match any outer indentation level\n"
     ]
    }
   ],
   "source": [
    "# Incorrect indentation leading to a SyntaxError\n",
    "if True:\n",
    "print(\"This line is not properly indented\")  # Raises IndentationError\n",
    "\n",
    "# Incorrect indentation leading to a logical error\n",
    "x = 5\n",
    "if x > 0:\n",
    "    print(\"x is positive\")\n",
    "  print(\"This line is incorrectly indented\")  # This line will always be executed, which is a logical error\n"
   ]
  },
  {
   "cell_type": "markdown",
   "id": "1295c083-1735-4925-9cfe-1554acddb0b0",
   "metadata": {},
   "source": [
    "6.Differentiate between expression and statement in Python with examples."
   ]
  },
  {
   "cell_type": "raw",
   "id": "d471009d-a89e-40ed-8d65-39ec85470cf3",
   "metadata": {},
   "source": [
    "Answer:In Python, expressions and statements are both fundamental elements of the language, but they serve different purposes and have distinct characteristics.\n",
    "Expression:\n",
    "1.An expression is a combination of values, variables, operators, and function calls that evaluates to a single value.\n",
    "2.Expressions can be simple or complex, but they always result in a value.\n",
    "3.Examples of expressions include arithmetic operations, function calls, and variable assignments.\n",
    "4.Expressions can appear within statements or stand alone."
   ]
  },
  {
   "cell_type": "code",
   "execution_count": 15,
   "id": "912f9940-91e9-4a93-8d9b-3c0ddad37f15",
   "metadata": {},
   "outputs": [],
   "source": [
    "# Variable access expression\n",
    "x = 10\n",
    "y = x + 5\n",
    "# Arithmetic expression\n",
    "result = 5 + 3 * (2 - 1)\n",
    "# Function call expression\n",
    "length = len(\"Hello, world!\")"
   ]
  },
  {
   "cell_type": "raw",
   "id": "a84c99c0-8597-462c-ae41-0f7396cf3814",
   "metadata": {},
   "source": [
    "Statement:\n",
    "1.A statement is a complete line of code that performs a specific action. It typically represents a complete instruction that the 2.Python interpreter can execute.\n",
    "3.Statements can include expressions, but they also encompass other constructs such as assignments, control flow (e.g., if, while, for), function definitions, class definitions, import statements, etc.\n",
    "4.Unlike expressions, statements do not necessarily produce a value."
   ]
  },
  {
   "cell_type": "code",
   "execution_count": 16,
   "id": "6d29294b-9226-4c5a-945f-d6b45dc5df54",
   "metadata": {},
   "outputs": [
    {
     "name": "stdout",
     "output_type": "stream",
     "text": [
      "x is positive\n"
     ]
    }
   ],
   "source": [
    "# Assignment statement\n",
    "x = 10\n",
    "# Conditional statement\n",
    "if x > 0:\n",
    "    print(\"x is positive\")\n",
    "else:\n",
    "    print(\"x is non-positive\")\n",
    "# Function definition statement\n",
    "def greet(name):\n",
    "    print(\"Hello, \" + name + \"!\")\n",
    "# Class definition statement\n",
    "class MyClass:\n",
    "    def __init__(self, value):\n",
    "        self.value = value"
   ]
  }
 ],
 "metadata": {
  "kernelspec": {
   "display_name": "Python 3 (ipykernel)",
   "language": "python",
   "name": "python3"
  },
  "language_info": {
   "codemirror_mode": {
    "name": "ipython",
    "version": 3
   },
   "file_extension": ".py",
   "mimetype": "text/x-python",
   "name": "python",
   "nbconvert_exporter": "python",
   "pygments_lexer": "ipython3",
   "version": "3.10.8"
  }
 },
 "nbformat": 4,
 "nbformat_minor": 5
}
