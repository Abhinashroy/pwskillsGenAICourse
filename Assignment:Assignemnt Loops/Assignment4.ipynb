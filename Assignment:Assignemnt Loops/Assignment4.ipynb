{
 "cells": [
  {
   "cell_type": "markdown",
   "id": "8b8ef8e7-9d1a-4d67-acf4-19df2c7b7e9a",
   "metadata": {},
   "source": [
    "1.Print numbers from 1 to 5 using a while loop."
   ]
  },
  {
   "cell_type": "code",
   "execution_count": 1,
   "id": "5a3ed3c8-f5f2-424c-9446-ca573b9eea4b",
   "metadata": {},
   "outputs": [
    {
     "name": "stdout",
     "output_type": "stream",
     "text": [
      "1\n",
      "2\n",
      "3\n",
      "4\n",
      "5\n"
     ]
    }
   ],
   "source": [
    "i=1\n",
    "while i<6:\n",
    "    print(i)\n",
    "    i+=1"
   ]
  },
  {
   "cell_type": "markdown",
   "id": "f6027ed6-131c-4c8b-b5cd-1ef18a05b5aa",
   "metadata": {},
   "source": [
    "2.Calculate the sum of numbers from 1 to 10 using a while loop."
   ]
  },
  {
   "cell_type": "code",
   "execution_count": 5,
   "id": "8535923e-8b38-4ae4-a2bd-9ee373d76937",
   "metadata": {},
   "outputs": [
    {
     "name": "stdout",
     "output_type": "stream",
     "text": [
      "55\n"
     ]
    }
   ],
   "source": [
    "i,sum=1,0\n",
    "while i<=10:\n",
    "    sum=sum+i\n",
    "    i+=1\n",
    "print(sum)"
   ]
  },
  {
   "cell_type": "markdown",
   "id": "ff8a52e6-9ba1-4543-ad1c-50b924484d83",
   "metadata": {},
   "source": [
    "3.Calculate the factorial of a number using a for loop."
   ]
  },
  {
   "cell_type": "code",
   "execution_count": 20,
   "id": "3903474c-0126-47fa-b0d5-a389fd7c66fc",
   "metadata": {},
   "outputs": [
    {
     "name": "stdin",
     "output_type": "stream",
     "text": [
      "Enter a numer: 6\n"
     ]
    },
    {
     "name": "stdout",
     "output_type": "stream",
     "text": [
      "720\n"
     ]
    }
   ],
   "source": [
    "num=int(input(\"Enter a numer:\"))\n",
    "fac=1\n",
    "if num==0:\n",
    "    print(1)\n",
    "else :\n",
    "    for i in range(1,num+1):\n",
    "        fac=fac*i\n",
    "    print(fac)"
   ]
  },
  {
   "cell_type": "markdown",
   "id": "077fb545-94c4-400e-bc83-88def953329a",
   "metadata": {},
   "source": [
    "4.Count the number of vowels in a string using a for loop."
   ]
  },
  {
   "cell_type": "code",
   "execution_count": 26,
   "id": "6081dfdd-503a-4264-afa9-7d9f1e6c7571",
   "metadata": {},
   "outputs": [
    {
     "name": "stdin",
     "output_type": "stream",
     "text": [
      "Enter the String: Hello! I am Abhinash\n"
     ]
    },
    {
     "name": "stdout",
     "output_type": "stream",
     "text": [
      "7\n"
     ]
    }
   ],
   "source": [
    "string=input(\"Enter the String:\")\n",
    "vowel=('a','A','e','E','i','I','o','O','u','U')\n",
    "count=0\n",
    "for char in string:\n",
    "    if char in vowel:\n",
    "        count+=1\n",
    "print(count)"
   ]
  },
  {
   "cell_type": "markdown",
   "id": "4078753e-ef91-4091-a8b8-c53275c14c79",
   "metadata": {},
   "source": [
    "5.Print a pattern using nested loop."
   ]
  },
  {
   "cell_type": "code",
   "execution_count": 30,
   "id": "ac6615b8-2556-49a1-a416-dc742149027d",
   "metadata": {},
   "outputs": [
    {
     "name": "stdin",
     "output_type": "stream",
     "text": [
      "Enter no. of rows: 4\n"
     ]
    },
    {
     "name": "stdout",
     "output_type": "stream",
     "text": [
      "# \n",
      "# # \n",
      "# # # \n",
      "# # # # \n"
     ]
    }
   ],
   "source": [
    "row=int(input(\"Enter no. of rows:\"))\n",
    "for i in range(1,row+1):\n",
    "    for j in range(i):\n",
    "        print('#',end=\" \")\n",
    "    print()"
   ]
  },
  {
   "cell_type": "markdown",
   "id": "95c62d7c-88a1-4261-9f69-73b4ac039c87",
   "metadata": {},
   "source": [
    "6.Generate a multiplication table using nested loop."
   ]
  },
  {
   "cell_type": "code",
   "execution_count": 36,
   "id": "e466116d-1662-4513-bdfe-5fab180f6c05",
   "metadata": {},
   "outputs": [
    {
     "name": "stdin",
     "output_type": "stream",
     "text": [
      "Enter a numer: 10\n"
     ]
    },
    {
     "name": "stdout",
     "output_type": "stream",
     "text": [
      "1*1=1\t2*1=2\t3*1=3\t4*1=4\t5*1=5\t6*1=6\t7*1=7\t8*1=8\t9*1=9\t10*1=10\t\n",
      "1*2=2\t2*2=4\t3*2=6\t4*2=8\t5*2=10\t6*2=12\t7*2=14\t8*2=16\t9*2=18\t10*2=20\t\n",
      "1*3=3\t2*3=6\t3*3=9\t4*3=12\t5*3=15\t6*3=18\t7*3=21\t8*3=24\t9*3=27\t10*3=30\t\n",
      "1*4=4\t2*4=8\t3*4=12\t4*4=16\t5*4=20\t6*4=24\t7*4=28\t8*4=32\t9*4=36\t10*4=40\t\n",
      "1*5=5\t2*5=10\t3*5=15\t4*5=20\t5*5=25\t6*5=30\t7*5=35\t8*5=40\t9*5=45\t10*5=50\t\n",
      "1*6=6\t2*6=12\t3*6=18\t4*6=24\t5*6=30\t6*6=36\t7*6=42\t8*6=48\t9*6=54\t10*6=60\t\n",
      "1*7=7\t2*7=14\t3*7=21\t4*7=28\t5*7=35\t6*7=42\t7*7=49\t8*7=56\t9*7=63\t10*7=70\t\n",
      "1*8=8\t2*8=16\t3*8=24\t4*8=32\t5*8=40\t6*8=48\t7*8=56\t8*8=64\t9*8=72\t10*8=80\t\n",
      "1*9=9\t2*9=18\t3*9=27\t4*9=36\t5*9=45\t6*9=54\t7*9=63\t8*9=72\t9*9=81\t10*9=90\t\n",
      "1*10=10\t2*10=20\t3*10=30\t4*10=40\t5*10=50\t6*10=60\t7*10=70\t8*10=80\t9*10=90\t10*10=100\t\n"
     ]
    }
   ],
   "source": [
    "num=int(input(\"Enter a numer:\"))\n",
    "for i in range(1,11):\n",
    "    for j in range(1,num+1):\n",
    "        print(f\"{j}*{i}={i*j}\",end=\"\\t\")\n",
    "    print()"
   ]
  }
 ],
 "metadata": {
  "kernelspec": {
   "display_name": "Python 3 (ipykernel)",
   "language": "python",
   "name": "python3"
  },
  "language_info": {
   "codemirror_mode": {
    "name": "ipython",
    "version": 3
   },
   "file_extension": ".py",
   "mimetype": "text/x-python",
   "name": "python",
   "nbconvert_exporter": "python",
   "pygments_lexer": "ipython3",
   "version": "3.10.8"
  }
 },
 "nbformat": 4,
 "nbformat_minor": 5
}
