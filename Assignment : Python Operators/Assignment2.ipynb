{
 "cells": [
  {
   "cell_type": "markdown",
   "id": "8e2f27a6-1547-4fd4-afae-9579fd0417e4",
   "metadata": {},
   "source": [
    "1.Calculate the sum, difference, product, and quotient of two numbers."
   ]
  },
  {
   "cell_type": "code",
   "execution_count": 8,
   "id": "33bf3456-483d-4c21-8934-fa17c9e331c6",
   "metadata": {},
   "outputs": [
    {
     "name": "stdout",
     "output_type": "stream",
     "text": [
      "11 7 18 4\n"
     ]
    }
   ],
   "source": [
    "a,b=9,2\n",
    "print(a+b,a-b,a*b,int(a/b))"
   ]
  },
  {
   "cell_type": "markdown",
   "id": "50229ea1-6007-49c8-9797-5321f53b63f9",
   "metadata": {},
   "source": [
    "2.Perform various assignment operations on a variable."
   ]
  },
  {
   "cell_type": "code",
   "execution_count": 34,
   "id": "ac4d046e-9fe0-41bc-98a5-bdf1c1129a36",
   "metadata": {
    "tags": []
   },
   "outputs": [
    {
     "name": "stdout",
     "output_type": "stream",
     "text": [
      "10\n",
      "7\n",
      "14\n",
      "2.0\n",
      "8.0\n",
      "2.0\n",
      "1.0\n"
     ]
    }
   ],
   "source": [
    "a=8\n",
    "a+=2\n",
    "print(a)\n",
    "a-=3\n",
    "print(a)\n",
    "a*=2\n",
    "print(a)\n",
    "a/=7\n",
    "print(a)\n",
    "a**=3\n",
    "print(a)\n",
    "a%=3\n",
    "print(a)\n",
    "a//=2\n",
    "print(a)"
   ]
  },
  {
   "cell_type": "markdown",
   "id": "3e1423f3-2201-4f51-b0a9-4dbc92d25115",
   "metadata": {},
   "source": [
    "3.Compare two numbers and print the results."
   ]
  },
  {
   "cell_type": "code",
   "execution_count": 25,
   "id": "d7a2e936-97ba-49ba-bed6-523925393942",
   "metadata": {},
   "outputs": [
    {
     "name": "stdout",
     "output_type": "stream",
     "text": [
      "False True True False True\n"
     ]
    }
   ],
   "source": [
    "a,b,c=4,9,10\n",
    "print(a>b,a<c,b<=c,a>=b,a!=b)"
   ]
  },
  {
   "cell_type": "markdown",
   "id": "12240154-884e-4902-8f4b-f4d34a2647e0",
   "metadata": {},
   "source": [
    "4.Check conditions using logical operators."
   ]
  },
  {
   "cell_type": "code",
   "execution_count": 28,
   "id": "b70adcea-9d35-4de3-8093-f7ef425fbd9b",
   "metadata": {},
   "outputs": [
    {
     "name": "stdout",
     "output_type": "stream",
     "text": [
      "False\n",
      "False\n",
      "True\n"
     ]
    }
   ],
   "source": [
    "a,b,c=11,45,34\n",
    "print(a>10 and c<10)\n",
    "print(b<23 or c>90)\n",
    "print(not a==10)"
   ]
  },
  {
   "cell_type": "markdown",
   "id": "1a1f0e2d-bb05-48cd-b634-ecf073d815e7",
   "metadata": {},
   "source": [
    "5.Check the identity of variables."
   ]
  },
  {
   "cell_type": "code",
   "execution_count": 31,
   "id": "4b60f6f5-d0f1-450b-8a89-3506558e032c",
   "metadata": {},
   "outputs": [
    {
     "name": "stdout",
     "output_type": "stream",
     "text": [
      "True\n",
      "True\n"
     ]
    }
   ],
   "source": [
    "a,b,c,d=2,3,2,11\n",
    "print(a is c)\n",
    "print(b is not d)"
   ]
  },
  {
   "cell_type": "markdown",
   "id": "93275018-f83f-46f9-a783-47bfbdd5b8ce",
   "metadata": {},
   "source": [
    "6.Perform bitwise operations on any two integers."
   ]
  },
  {
   "cell_type": "code",
   "execution_count": 36,
   "id": "fb8a5bcd-de42-4b1d-a85f-9907dc8409dd",
   "metadata": {},
   "outputs": [
    {
     "name": "stdout",
     "output_type": "stream",
     "text": [
      "4 5 -6 1 40 1\n"
     ]
    }
   ],
   "source": [
    "a,b=5,4\n",
    "print(a&b ,a|b ,~a ,a^b ,a<<3,b>>2)"
   ]
  },
  {
   "cell_type": "markdown",
   "id": "553d6ec0-4924-4593-837a-012b280c44a2",
   "metadata": {},
   "source": [
    "7.Use unary operators to change the sign of a number."
   ]
  },
  {
   "cell_type": "code",
   "execution_count": 37,
   "id": "74ea601a-1616-44a3-b33a-c23608d138ce",
   "metadata": {},
   "outputs": [
    {
     "name": "stdout",
     "output_type": "stream",
     "text": [
      "5 -5\n"
     ]
    }
   ],
   "source": [
    "a=5\n",
    "b=-a\n",
    "print(a,b)"
   ]
  },
  {
   "cell_type": "markdown",
   "id": "b46f8fb9-fa49-4044-b698-ae2c5e71d0f9",
   "metadata": {},
   "source": [
    "8.Use the ternary operator to assign values based on conditions."
   ]
  },
  {
   "cell_type": "code",
   "execution_count": 38,
   "id": "261de97d-f3eb-4b93-9f2f-86870c830584",
   "metadata": {},
   "outputs": [
    {
     "name": "stdin",
     "output_type": "stream",
     "text": [
      " 6.7\n"
     ]
    },
    {
     "name": "stdout",
     "output_type": "stream",
     "text": [
      "Positive\n"
     ]
    }
   ],
   "source": [
    "a=float(input())\n",
    "b=\"Negative\" if a<0 else \"Positive\"\n",
    "print(b)"
   ]
  },
  {
   "cell_type": "code",
   "execution_count": null,
   "id": "07ddcbb2-25df-4ae2-97c2-ff45aba74a8a",
   "metadata": {},
   "outputs": [],
   "source": []
  }
 ],
 "metadata": {
  "kernelspec": {
   "display_name": "Python 3 (ipykernel)",
   "language": "python",
   "name": "python3"
  },
  "language_info": {
   "codemirror_mode": {
    "name": "ipython",
    "version": 3
   },
   "file_extension": ".py",
   "mimetype": "text/x-python",
   "name": "python",
   "nbconvert_exporter": "python",
   "pygments_lexer": "ipython3",
   "version": "3.10.8"
  }
 },
 "nbformat": 4,
 "nbformat_minor": 5
}
