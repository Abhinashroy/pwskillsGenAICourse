{
 "cells": [
  {
   "cell_type": "markdown",
   "id": "1b0d1eef-d4ea-4305-a4b0-84e8e38a0859",
   "metadata": {},
   "source": [
    "1.What is the purpose of the len() function in Python, and how can it be used with strings?"
   ]
  },
  {
   "cell_type": "markdown",
   "id": "19e4f701-1c11-4e64-bcb1-a1b6d72b29c5",
   "metadata": {},
   "source": [
    "The len() function in Python returns the length (number of items) of an object, such as a list, tuple, or string. For strings, it returns the number of characters in the string. For example, len('hello') would return 5."
   ]
  },
  {
   "cell_type": "markdown",
   "id": "c46e2b04-02d9-4caf-8895-6cc65d9e4c27",
   "metadata": {},
   "source": [
    "2.How can you concatenate two or more strings in Python, and can you provide an example of string concatenation?"
   ]
  },
  {
   "cell_type": "markdown",
   "id": "3a4263d1-9559-408f-a11f-3f5c1f4703eb",
   "metadata": {},
   "source": [
    "You can concatenate two or more strings in Python using the + operator. For example: fullname = \"John\" + \" \" + \"Doe\" would result in the string \"John Doe\"."
   ]
  },
  {
   "cell_type": "markdown",
   "id": "e674d11b-f6a9-4fc1-bd7c-5791690a9814",
   "metadata": {},
   "source": [
    "3.What is string slicing in Python, and how can you extract a portion of a string using this method?"
   ]
  },
  {
   "cell_type": "markdown",
   "id": "e6df760c-abb4-468f-b5a9-56e5df15b732",
   "metadata": {},
   "source": [
    "String slicing in Python allows you to extract a portion of a string by specifying start and end indices. For example, if name = \"Python\", then name[2:4] would extract the substring \"th\"."
   ]
  },
  {
   "cell_type": "markdown",
   "id": "a5bcc4c9-847e-4a69-83dd-12e86cc05d49",
   "metadata": {},
   "source": [
    "4.How can you change the case of a string in Python, and can you provide examples of both making a string all uppercase and all lowercase?"
   ]
  },
  {
   "cell_type": "markdown",
   "id": "a309b613-11e5-4364-84ed-1474332af13e",
   "metadata": {},
   "source": [
    "You can change the case of a string in Python using the upper() and lower() methods. For example, greeting = \"Hello, World!\".upper() would make the string all uppercase (\"HELLO, WORLD!\"), and name.lower() would make it all lowercase (\"hello, world!\")."
   ]
  },
  {
   "cell_type": "markdown",
   "id": "bd1c8955-2c45-4671-988a-e2e041d96b00",
   "metadata": {},
   "source": [
    "5.What does the split() method do in Python, and how can you split a string using a specific delimiter?"
   ]
  },
  {
   "cell_type": "markdown",
   "id": "8ecedac3-186e-437c-a19d-80158f877c16",
   "metadata": {},
   "source": [
    "The split() method in Python divides a string into a list of substrings based on a specified delimiter (separator). For example, words = \"apple,banana,cherry\".split(\",\") would create a list [\"apple\", \"banana\", \"cherry\"] by splitting the string at each comma delimiter."
   ]
  }
 ],
 "metadata": {
  "kernelspec": {
   "display_name": "Python 3 (ipykernel)",
   "language": "python",
   "name": "python3"
  },
  "language_info": {
   "codemirror_mode": {
    "name": "ipython",
    "version": 3
   },
   "file_extension": ".py",
   "mimetype": "text/x-python",
   "name": "python",
   "nbconvert_exporter": "python",
   "pygments_lexer": "ipython3",
   "version": "3.10.8"
  }
 },
 "nbformat": 4,
 "nbformat_minor": 5
}
