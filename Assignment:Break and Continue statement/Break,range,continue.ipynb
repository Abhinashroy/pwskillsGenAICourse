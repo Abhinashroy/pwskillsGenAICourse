{
 "cells": [
  {
   "cell_type": "markdown",
   "id": "d6a7bf5f-e0b3-4e41-a793-6f56a5e2e5e5",
   "metadata": {},
   "source": [
    "1.Write a program to print numbers from 1 to 10, but stop if the number is 5."
   ]
  },
  {
   "cell_type": "code",
   "execution_count": 1,
   "id": "722224f1-2716-4b79-9895-e347ca62649f",
   "metadata": {},
   "outputs": [
    {
     "name": "stdout",
     "output_type": "stream",
     "text": [
      "1\n",
      "2\n",
      "3\n",
      "4\n"
     ]
    }
   ],
   "source": [
    "i=1\n",
    "while i<11:\n",
    "    if i==5:\n",
    "        break\n",
    "    print(i)\n",
    "    i+=1"
   ]
  },
  {
   "cell_type": "markdown",
   "id": "d340f8b9-1395-4dd6-b527-910f0d4822ad",
   "metadata": {},
   "source": [
    "2.Write a program to iterate through a list and stop when encountering a specific element."
   ]
  },
  {
   "cell_type": "code",
   "execution_count": 5,
   "id": "7b225f87-2e87-4e5d-aced-3e7847f34588",
   "metadata": {},
   "outputs": [
    {
     "name": "stdout",
     "output_type": "stream",
     "text": [
      "Stopping at a\n"
     ]
    }
   ],
   "source": [
    "list_={\"Hello\",23,1,'a',11,\"Course\",15,'s'}\n",
    "encounter='a'\n",
    "for anything in list_:\n",
    "    if encounter==anything:\n",
    "        print('Stopping at',anything)\n",
    "        break"
   ]
  },
  {
   "cell_type": "markdown",
   "id": "e1fc16ed-f9e6-4bce-aefa-1cd2aa837f24",
   "metadata": {},
   "source": [
    "3.Write a program to skip printing even numbers from 1 to 10."
   ]
  },
  {
   "cell_type": "code",
   "execution_count": 7,
   "id": "d4a6a71f-0d57-4669-bb1a-7559b4995fd4",
   "metadata": {},
   "outputs": [
    {
     "name": "stdout",
     "output_type": "stream",
     "text": [
      "1\n",
      "3\n",
      "5\n",
      "7\n",
      "9\n"
     ]
    }
   ],
   "source": [
    "for i in range(1,11):\n",
    "    if i%2==0:\n",
    "        continue\n",
    "    print(i)"
   ]
  },
  {
   "cell_type": "markdown",
   "id": "290c98c5-f5e0-4844-854e-870595cf9b3e",
   "metadata": {},
   "source": [
    "4.Write a program to print numbers from 0 to 9 using range()."
   ]
  },
  {
   "cell_type": "code",
   "execution_count": 8,
   "id": "bd86769e-b39b-47e5-9fe3-3205e0a6aba4",
   "metadata": {},
   "outputs": [
    {
     "name": "stdout",
     "output_type": "stream",
     "text": [
      "0\n",
      "1\n",
      "2\n",
      "3\n",
      "4\n",
      "5\n",
      "6\n",
      "7\n",
      "8\n",
      "9\n"
     ]
    }
   ],
   "source": [
    "for i in range(0,10):\n",
    "    print(i)"
   ]
  },
  {
   "cell_type": "markdown",
   "id": "0e2be126-66e1-4f52-ab08-80872b197c3a",
   "metadata": {},
   "source": [
    "5.Write a program to print multiplication tables from 1 to 5, but stop after the first table is printed for each\n",
    "number."
   ]
  },
  {
   "cell_type": "code",
   "execution_count": 18,
   "id": "0a06691f-1bca-4458-b2a7-176db503b7a7",
   "metadata": {},
   "outputs": [
    {
     "name": "stdout",
     "output_type": "stream",
     "text": [
      "1*1=1\n",
      "2*1=2\n",
      "3*1=3\n",
      "4*1=4\n",
      "5*1=5\n",
      "6*1=6\n",
      "7*1=7\n",
      "8*1=8\n",
      "9*1=9\n",
      "10*1=10\n",
      "\n",
      "\n"
     ]
    },
    {
     "name": "stdin",
     "output_type": "stream",
     "text": [
      "Enter y|n y\n"
     ]
    },
    {
     "name": "stdout",
     "output_type": "stream",
     "text": [
      "1*2=2\n",
      "2*2=4\n",
      "3*2=6\n",
      "4*2=8\n",
      "5*2=10\n",
      "6*2=12\n",
      "7*2=14\n",
      "8*2=16\n",
      "9*2=18\n",
      "10*2=20\n",
      "\n",
      "\n"
     ]
    },
    {
     "name": "stdin",
     "output_type": "stream",
     "text": [
      "Enter y|n y\n"
     ]
    },
    {
     "name": "stdout",
     "output_type": "stream",
     "text": [
      "1*3=3\n",
      "2*3=6\n",
      "3*3=9\n",
      "4*3=12\n",
      "5*3=15\n",
      "6*3=18\n",
      "7*3=21\n",
      "8*3=24\n",
      "9*3=27\n",
      "10*3=30\n",
      "\n",
      "\n"
     ]
    },
    {
     "name": "stdin",
     "output_type": "stream",
     "text": [
      "Enter y|n n\n"
     ]
    }
   ],
   "source": [
    "cont='y'\n",
    "for i in range(1,6):\n",
    "    for j in range(1,11):\n",
    "        print(f\"{j}*{i}={i*j}\")\n",
    "    print(\"\\n\")\n",
    "    if i<6:\n",
    "        cont=input(\"Enter y|n\")\n",
    "    if cont=='n':\n",
    "        break"
   ]
  },
  {
   "cell_type": "markdown",
   "id": "0bde9e66-6365-467a-95eb-58d1dff1d134",
   "metadata": {},
   "source": [
    "6.Write a program to skip printing even numbers using a while loop."
   ]
  },
  {
   "cell_type": "code",
   "execution_count": 22,
   "id": "6e8357ab-f259-426e-a2d9-9fea9b1b5a15",
   "metadata": {},
   "outputs": [
    {
     "name": "stdout",
     "output_type": "stream",
     "text": [
      "1\n",
      "3\n",
      "5\n",
      "7\n",
      "9\n",
      "11\n",
      "13\n",
      "15\n",
      "17\n",
      "19\n",
      "21\n",
      "23\n",
      "25\n",
      "27\n"
     ]
    }
   ],
   "source": [
    "num=27\n",
    "i=1\n",
    "while i<=num:\n",
    "    if i%2==0:\n",
    "        i+=1\n",
    "        continue\n",
    "    print(i)\n",
    "    i+=1"
   ]
  },
  {
   "cell_type": "code",
   "execution_count": null,
   "id": "d5107ec8-3ecb-4d37-ba39-57d27b527eed",
   "metadata": {},
   "outputs": [],
   "source": []
  }
 ],
 "metadata": {
  "kernelspec": {
   "display_name": "Python 3 (ipykernel)",
   "language": "python",
   "name": "python3"
  },
  "language_info": {
   "codemirror_mode": {
    "name": "ipython",
    "version": 3
   },
   "file_extension": ".py",
   "mimetype": "text/x-python",
   "name": "python",
   "nbconvert_exporter": "python",
   "pygments_lexer": "ipython3",
   "version": "3.10.8"
  }
 },
 "nbformat": 4,
 "nbformat_minor": 5
}
